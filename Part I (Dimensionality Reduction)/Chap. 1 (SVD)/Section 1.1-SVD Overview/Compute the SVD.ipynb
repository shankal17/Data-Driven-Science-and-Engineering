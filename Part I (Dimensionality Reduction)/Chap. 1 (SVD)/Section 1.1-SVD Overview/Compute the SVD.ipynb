{
 "cells": [
  {
   "cell_type": "code",
   "execution_count": 16,
   "metadata": {},
   "outputs": [],
   "source": [
    "import numpy as np"
   ]
  },
  {
   "cell_type": "markdown",
   "metadata": {},
   "source": [
    "## Computing the SVD"
   ]
  },
  {
   "cell_type": "code",
   "execution_count": 17,
   "metadata": {},
   "outputs": [],
   "source": [
    "# Create data matrix of random numbers\n",
    "X = np.random.rand(5,3)\n",
    "\n",
    "# Compute the full SVD\n",
    "U, S, V = np.linalg.svd(X, full_matrices=True)\n",
    "\n",
    "# Compute the economy SVD\n",
    "U_hat, S_hat, V_hat = np.linalg.svd(X, full_matrices=False)"
   ]
  }
 ],
 "metadata": {
  "kernelspec": {
   "display_name": "Python 3",
   "language": "python",
   "name": "python3"
  },
  "language_info": {
   "codemirror_mode": {
    "name": "ipython",
    "version": 3
   },
   "file_extension": ".py",
   "mimetype": "text/x-python",
   "name": "python",
   "nbconvert_exporter": "python",
   "pygments_lexer": "ipython3",
   "version": "3.8.3rc1"
  }
 },
 "nbformat": 4,
 "nbformat_minor": 4
}
